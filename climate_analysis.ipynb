{
 "cells": [
  {
   "cell_type": "markdown",
   "metadata": {},
   "source": [
    "## Step 3 - Climate Analysis and Exploration #\n",
    "\n",
    "You are now ready to use Python and SQLAlchemy to do basic climate analysis and data exploration on your new weather station tables. All of the following analysis should be completed using SQLAlchemy ORM queries, Pandas, and Matplotlib.\n",
    "\n",
    "Create a Jupyter Notebook file called climate_analysis.ipynb and use it to complete your climate analysis and data exporation.\n",
    "Choose a start date and end date for your trip. Make sure that your vacation range is approximately 3-15 days total.\n",
    "Use SQLAlchemy create_engine to connect to your sqlite database.\n",
    "Use SQLAlchemy automap_base() to reflect your tables into classes and save a reference to those classes called Station and Measurement."
   ]
  },
  {
   "cell_type": "code",
   "execution_count": null,
   "metadata": {},
   "outputs": [],
   "source": [
    "#Dependencies\n",
    "import datetime as dt\n",
    "import numpy as np\n",
    "import pandas as pd\n",
    "import matplotlib.pyplot as plt\n",
    "from datetime import datetime\n",
    "\n",
    "import sqlalchemy\n",
    "from sqlalchemy.ext.automap import automap_base\n",
    "from sqlalchemy.orm import Session\n",
    "from sqlalchemy import create_engine, func, inspect, desc\n",
    "from sqlalchemy.sql import label\n",
    "\n",
    "from flask import Flask, jsonify"
   ]
  },
  {
   "cell_type": "code",
   "execution_count": null,
   "metadata": {},
   "outputs": [],
   "source": [
    "engine = create_engine(\"sqlite:///Resources/hawaii.sqlite\", echo=False)"
   ]
  },
  {
   "cell_type": "code",
   "execution_count": null,
   "metadata": {},
   "outputs": [],
   "source": [
    "Base = automap_base()\n",
    "Base.prepare(engine, reflect=True)\n",
    "Measurement = Base.classes.measurements\n",
    "Stations = Base.classes.stations\n",
    "session = Session(bind = engine)"
   ]
  },
  {
   "cell_type": "code",
   "execution_count": null,
   "metadata": {},
   "outputs": [],
   "source": [
    "inspector = inspect(engine)\n",
    "inspector.get_table_names()"
   ]
  },
  {
   "cell_type": "code",
   "execution_count": null,
   "metadata": {},
   "outputs": [],
   "source": [
    "columns = inspector.get_columns('measurements')\n",
    "for c in columns:\n",
    "    print(c['name'], c[\"type\"])\n",
    "print('__________________________________')    \n",
    "columns = inspector.get_columns('stations')\n",
    "for c in columns:\n",
    "    print(c['name'], c[\"type\"])"
   ]
  },
  {
   "cell_type": "markdown",
   "metadata": {},
   "source": [
    "### Precipitation Analysis\n",
    "\n",
    "Design a query to retrieve the last 12 months of precipitation data.\n",
    "Select only the date and prcp values.\n",
    "Load the query results into a Pandas DataFrame and set the index to the date column.\n",
    "Plot the results using the DataFrame plot method.\n",
    "Use Pandas to print the summary statistics for the precipitation data.\n"
   ]
  },
  {
   "cell_type": "code",
   "execution_count": null,
   "metadata": {},
   "outputs": [],
   "source": [
    "results = session.query(Measurement.date, Measurement.prcp).filter((Measurement.date >= '2016-08-23') &\n",
    "                                                              (Measurement.date <='2017-08-23'))"
   ]
  },
  {
   "cell_type": "code",
   "execution_count": null,
   "metadata": {},
   "outputs": [],
   "source": [
    "data = {'date': [], 'prcp': []}\n",
    "\n",
    "for row in results:\n",
    "    data['date'].append(row.date)\n",
    "    data['prcp'].append(row.prcp)\n",
    "\n",
    "prcp_year = pd.DataFrame(data, columns = ['prcp','date'] , index =data['date'])\n",
    "prcp_year['date']= pd.to_datetime(prcp_year['date'], format='%Y-%m-%d')\n",
    "\n",
    "print(prcp_year.head(10000))\n",
    "prcp_year.dtypes"
   ]
  },
  {
   "cell_type": "code",
   "execution_count": null,
   "metadata": {},
   "outputs": [],
   "source": [
    "#prcp_year.plot(prcp_year['prcp'], prcp_year['date'])\n",
    "prcp_year.plot('date','prcp')\n",
    "plt.xlabel(\"Date\")\n",
    "plt.ylabel(\"Rain (Inches)\")\n",
    "plt.title(\"Precipitation Hawaii (2016-08-23 to 2017-08-23)\")\n",
    "plt.legend([\"Precipitation\"])\n",
    "plt.xticks(rotation=45)\n",
    "plt.tight_layout()\n",
    "plt.show()"
   ]
  },
  {
   "cell_type": "code",
   "execution_count": null,
   "metadata": {},
   "outputs": [],
   "source": [
    "prcp_year.describe()"
   ]
  },
  {
   "cell_type": "markdown",
   "metadata": {},
   "source": [
    "### Station Analysis\n",
    "\n",
    "Design a query to calculate the total number of stations.\n",
    "Design a query to find the most active stations.\n",
    "List the stations and observation counts in descending order\n",
    "Which station has the highest number of observations?\n",
    "\n",
    "Design a query to retrieve the last 12 months of temperature observation data (tobs).\n",
    "\n",
    "Filter by the station with the highest number of observations.\n",
    "Plot the results as a histogram with bins=12.\n"
   ]
  },
  {
   "cell_type": "code",
   "execution_count": null,
   "metadata": {},
   "outputs": [],
   "source": [
    "stations = session.query(Measurement).group_by(Measurement.station).count()\n",
    "print(stations)"
   ]
  },
  {
   "cell_type": "code",
   "execution_count": null,
   "metadata": {},
   "outputs": [],
   "source": [
    "most_obs = session.query(Measurement.station, func.count(Measurement.tobs)).group_by(Measurement.station).\\\n",
    "               order_by(func.count(Measurement.tobs).desc()).all()\n",
    "\n",
    "most = most_obs[0][0]    \n",
    "print(\"Name:\",most,'=',most_obs[0][1],\"weather observations.\")\n",
    "print('_______________')\n",
    "for station, count in most_obs:\n",
    "    print(\"Name:\",station,\"=\",count,\"obs.\")\n"
   ]
  },
  {
   "cell_type": "code",
   "execution_count": null,
   "metadata": {},
   "outputs": [],
   "source": [
    "temp = session.query(Measurement.station, Measurement.date, Measurement.tobs).\\\n",
    "    filter(Measurement.station == most).\\\n",
    "    filter((Measurement.date >= '2016-08-23')&(Measurement.date <='2017-08-23')).order_by(Measurement.date).all()\n",
    "\n",
    "temp_df=pd.DataFrame(temp)\n",
    "plt.hist(temp_df['tobs'],12)\n",
    "plt.xlabel(\"Recorded Temp\")\n",
    "plt.ylabel(\"Number of Observations\")\n",
    "plt.title(\"Station Analysis (2016-08-23 to 2017-08-23) for Station \" + most)\n",
    "plt.show()"
   ]
  },
  {
   "cell_type": "markdown",
   "metadata": {},
   "source": [
    "### Temperature Analysis\n",
    "\n",
    "Write a function called calc_temps that will accept a start date and end date in the format %Y-%m-%d and return the minimum, average, and maximum temperatures for that range of dates.\n",
    "Use the calc_temps function to calculate the min, avg, and max temperatures for your trip using the matching dates from the previous year (i.e. use \"2017-01-01\" if your trip start date was \"2018-01-01\")\n",
    "\n",
    "Plot the min, avg, and max temperature from your previous query as a bar chart.\n",
    "\n",
    "\n",
    "Use the average temperature as the bar height.\n",
    "Use the peak-to-peak (tmax-tmin) value as the y error bar (yerr)."
   ]
  },
  {
   "cell_type": "code",
   "execution_count": null,
   "metadata": {},
   "outputs": [],
   "source": [
    "def calc_temps(start, end):\n",
    "    return session.query(func.min(Measurement.tobs), func.avg(Measurement.tobs), func.max(Measurement.tobs)).\\\n",
    "        filter(Measurement.date >= start).filter(Measurement.date <= end).all()\n",
    "\n",
    "temp_range = (calc_temps('2017-01-01', '2018-01-01'))\n",
    "print(temp_range)"
   ]
  },
  {
   "cell_type": "code",
   "execution_count": null,
   "metadata": {},
   "outputs": [],
   "source": [
    "arrive = dt.date(2017, 11, 1)\n",
    "leave = dt.date(2017, 11, 17)\n",
    "last_year = dt.timedelta(days=365)\n",
    "temp_last_year = (calc_temps((arrive-last_year), (leave-last_year)))\n",
    "\n",
    "print(temp_last_year)"
   ]
  },
  {
   "cell_type": "code",
   "execution_count": null,
   "metadata": {},
   "outputs": [],
   "source": [
    "import seaborn \n",
    "errval = temp_last_year[0][2] - temp_last_year[0][0]\n",
    "y = [temp_last_year[0][1]]\n",
    "x = 0\n",
    "fig, ax = plt.subplots()\n",
    "ax.set_ylabel(\"Temperature\", fontsize=14)\n",
    "ax.set_title(\"Trip Average Temp\", fontsize=18)\n",
    "ax.bar(x, y, width=.1, color=\"red\", yerr=errval)\n",
    "ax.set_ylim(0, 100)\n",
    "ax.set_xlim(-.1, .1)\n",
    "ax.set_xbound(lower=-.1, upper=.1)\n",
    "ax.tick_params(axis='x', which='both', bottom='off', top='off', labelbottom='off') \n",
    "plt.show()"
   ]
  },
  {
   "cell_type": "markdown",
   "metadata": {},
   "source": [
    "# Step 4 - Climate App\n",
    "\n",
    "Now that you have completed your initial analysis, design a Flask api based on the queries that you have just developed.\n",
    "Use FLASK to create your routes.\n",
    "\n",
    "Routes\n",
    "/api/v1.0/precipitation\n",
    "\n",
    "Query for the dates and temperature observations from the last year.\n",
    "Convert the query results to a Dictionary using date as the key and tobs as the value.\n",
    "Return the json representation of your dictionary.\n",
    "/api/v1.0/stations\n",
    "\n",
    "Return a json list of stations from the dataset.\n",
    "/api/v1.0/tobs\n",
    "\n",
    "Return a json list of Temperature Observations (tobs) for the previous year\n",
    "/api/v1.0/<start> and /api/v1.0/<start>/<end>\n",
    "\n",
    "Return a json list of the minimum temperature, the average temperature, and the max temperature for a given start or start-end range.\n",
    "When given the start only, calculate TMIN, TAVG, and TMAX for all dates greater than and equal to the start date.\n",
    "When given the start and the end date, calculate the TMIN, TAVG, and TMAX for dates between the start and end date inclusive."
   ]
  },
  {
   "cell_type": "code",
   "execution_count": null,
   "metadata": {},
   "outputs": [],
   "source": []
  }
 ],
 "metadata": {
  "kernelspec": {
   "display_name": "Python 3",
   "language": "python",
   "name": "python3"
  },
  "language_info": {
   "codemirror_mode": {
    "name": "ipython",
    "version": 3
   },
   "file_extension": ".py",
   "mimetype": "text/x-python",
   "name": "python",
   "nbconvert_exporter": "python",
   "pygments_lexer": "ipython3",
   "version": "3.6.5"
  }
 },
 "nbformat": 4,
 "nbformat_minor": 2
}
