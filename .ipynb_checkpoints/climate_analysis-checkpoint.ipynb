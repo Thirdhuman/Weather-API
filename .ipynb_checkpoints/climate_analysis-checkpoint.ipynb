{
 "cells": [
  {
   "cell_type": "markdown",
   "metadata": {},
   "source": [
    "## Step 3 - Climate Analysis and Exploration #\n",
    "\n",
    "You are now ready to use Python and SQLAlchemy to do basic climate analysis and data exploration on your new weather station tables. All of the following analysis should be completed using SQLAlchemy ORM queries, Pandas, and Matplotlib.\n",
    "\n",
    "Create a Jupyter Notebook file called climate_analysis.ipynb and use it to complete your climate analysis and data exporation.\n",
    "Choose a start date and end date for your trip. Make sure that your vacation range is approximately 3-15 days total.\n",
    "Use SQLAlchemy create_engine to connect to your sqlite database.\n",
    "Use SQLAlchemy automap_base() to reflect your tables into classes and save a reference to those classes called Station and Measurement."
   ]
  },
  {
   "cell_type": "code",
   "execution_count": 9,
   "metadata": {},
   "outputs": [],
   "source": [
    "#Dependencies\n",
    "import datetime as dt\n",
    "import numpy as np\n",
    "import pandas as pd\n",
    "import matplotlib.pyplot as plt\n",
    "\n",
    "import sqlalchemy\n",
    "from sqlalchemy.ext.automap import automap_base\n",
    "from sqlalchemy.orm import Session\n",
    "from sqlalchemy import create_engine, func, inspect, desc\n",
    "from sqlalchemy.sql import label\n",
    "\n",
    "from flask import Flask, jsonify"
   ]
  },
  {
   "cell_type": "code",
   "execution_count": 10,
   "metadata": {},
   "outputs": [],
   "source": [
    "engine = create_engine(\"sqlite:///Resources/hawaii.sqlite\", echo=False)"
   ]
  },
  {
   "cell_type": "code",
   "execution_count": 11,
   "metadata": {},
   "outputs": [],
   "source": [
    "Base = automap_base()\n",
    "Base.prepare(engine, reflect=True)\n",
    "Measurement = Base.classes.measurements\n",
    "Stations = Base.classes.stations\n",
    "session = Session(bind = engine)"
   ]
  },
  {
   "cell_type": "code",
   "execution_count": 12,
   "metadata": {},
   "outputs": [
    {
     "data": {
      "text/plain": [
       "['measurements', 'stations']"
      ]
     },
     "execution_count": 12,
     "metadata": {},
     "output_type": "execute_result"
    }
   ],
   "source": [
    "inspector = inspect(engine)\n",
    "inspector.get_table_names()"
   ]
  },
  {
   "cell_type": "code",
   "execution_count": 13,
   "metadata": {},
   "outputs": [
    {
     "name": "stdout",
     "output_type": "stream",
     "text": [
      "id INTEGER\n",
      "station TEXT\n",
      "date DATE\n",
      "prcp FLOAT\n",
      "tobs FLOAT\n",
      "__________________________________\n",
      "id INTEGER\n",
      "station TEXT\n",
      "name TEXT\n",
      "latitude FLOAT\n",
      "longitude FLOAT\n",
      "elevation FLOAT\n"
     ]
    }
   ],
   "source": [
    "columns = inspector.get_columns('measurements')\n",
    "for c in columns:\n",
    "    print(c['name'], c[\"type\"])\n",
    "print('__________________________________')    \n",
    "columns = inspector.get_columns('stations')\n",
    "for c in columns:\n",
    "    print(c['name'], c[\"type\"])"
   ]
  },
  {
   "cell_type": "markdown",
   "metadata": {},
   "source": [
    "### Precipitation Analysis\n",
    "\n",
    "Design a query to retrieve the last 12 months of precipitation data.\n",
    "Select only the date and prcp values.\n",
    "Load the query results into a Pandas DataFrame and set the index to the date column.\n",
    "Plot the results using the DataFrame plot method.\n",
    "Use Pandas to print the summary statistics for the precipitation data.\n"
   ]
  },
  {
   "cell_type": "code",
   "execution_count": 14,
   "metadata": {},
   "outputs": [],
   "source": [
    "results = session.query(Measurement.date, Measurement.prcp).filter((Measurement.date >= '2016-08-23') &\n",
    "                                                              (Measurement.date <='2017-08-23'))"
   ]
  },
  {
   "cell_type": "code",
   "execution_count": 58,
   "metadata": {},
   "outputs": [
    {
     "name": "stdout",
     "output_type": "stream",
     "text": [
      "            prcp       date\n",
      "2016-08-24  0.08 2016-08-24\n",
      "2016-08-25  0.08 2016-08-25\n",
      "2016-08-26  0.00 2016-08-26\n",
      "2016-08-27  0.00 2016-08-27\n",
      "2016-08-28  0.01 2016-08-28\n",
      "2016-08-29  0.00 2016-08-29\n",
      "2016-08-30  0.00 2016-08-30\n",
      "2016-08-31  0.13 2016-08-31\n",
      "2016-09-01  0.00 2016-09-01\n",
      "2016-09-02  0.00 2016-09-02\n",
      "2016-09-03  0.00 2016-09-03\n",
      "2016-09-04  0.03 2016-09-04\n",
      "2016-09-07  0.05 2016-09-07\n",
      "2016-09-08  0.00 2016-09-08\n",
      "2016-09-09  0.03 2016-09-09\n",
      "2016-09-10  0.00 2016-09-10\n",
      "2016-09-11  0.05 2016-09-11\n",
      "2016-09-12  0.00 2016-09-12\n",
      "2016-09-13  0.02 2016-09-13\n",
      "2016-09-14  1.32 2016-09-14\n",
      "2016-09-15  0.42 2016-09-15\n",
      "2016-09-16  0.06 2016-09-16\n",
      "2016-09-17  0.05 2016-09-17\n",
      "2016-09-18  0.00 2016-09-18\n",
      "2016-09-19  0.00 2016-09-19\n",
      "2016-09-20  0.00 2016-09-20\n",
      "2016-09-21  0.00 2016-09-21\n",
      "2016-09-22  0.02 2016-09-22\n",
      "2016-09-23  0.00 2016-09-23\n",
      "2016-09-24  0.00 2016-09-24\n",
      "...          ...        ...\n",
      "2017-05-02  0.00 2017-05-02\n",
      "2017-05-05  0.10 2017-05-05\n",
      "2017-05-06  0.00 2017-05-06\n",
      "2017-05-07  0.03 2017-05-07\n",
      "2017-05-08  1.11 2017-05-08\n",
      "2017-05-09  0.23 2017-05-09\n",
      "2017-05-10  0.55 2017-05-10\n",
      "2017-05-11  0.44 2017-05-11\n",
      "2017-05-12  0.10 2017-05-12\n",
      "2017-05-13  0.10 2017-05-13\n",
      "2017-05-14  1.00 2017-05-14\n",
      "2017-05-15  0.60 2017-05-15\n",
      "2017-05-16  0.30 2017-05-16\n",
      "2017-05-17  0.06 2017-05-17\n",
      "2017-05-18  0.00 2017-05-18\n",
      "2017-05-21  0.00 2017-05-21\n",
      "2017-05-22  0.30 2017-05-22\n",
      "2017-05-23  0.44 2017-05-23\n",
      "2017-05-24  2.17 2017-05-24\n",
      "2017-05-25  0.88 2017-05-25\n",
      "2017-05-26  0.00 2017-05-26\n",
      "2017-05-27  0.50 2017-05-27\n",
      "2017-05-28  0.00 2017-05-28\n",
      "2017-06-01  0.01 2017-06-01\n",
      "2017-06-04  0.82 2017-06-04\n",
      "2017-06-05  0.01 2017-06-05\n",
      "2017-06-06  0.00 2017-06-06\n",
      "2017-06-07  0.01 2017-06-07\n",
      "2017-06-08  0.00 2017-06-08\n",
      "2017-06-11  0.70 2017-06-11\n",
      "\n",
      "[10000 rows x 2 columns]\n"
     ]
    },
    {
     "data": {
      "text/plain": [
       "prcp           float64\n",
       "date    datetime64[ns]\n",
       "dtype: object"
      ]
     },
     "execution_count": 58,
     "metadata": {},
     "output_type": "execute_result"
    }
   ],
   "source": [
    "data = {'date': [], 'prcp': []}\n",
    "\n",
    "for row in results:\n",
    "    data['date'].append(row.date)\n",
    "    data['prcp'].append(row.prcp)\n",
    "\n",
    "prcp_year = pd.DataFrame(data, columns = ['prcp','date'] , index =data['date'])\n",
    "prcp_year['date']= pd.to_datetime(prcp_year['date'], format='%Y-%m-%d')\n",
    "\n",
    "print(prcp_year.head(10000))\n",
    "prcp_year.dtypes"
   ]
  },
  {
   "cell_type": "code",
   "execution_count": 62,
   "metadata": {},
   "outputs": [
    {
     "data": {
      "image/png": "[encoded data removed]",
      "text/plain": [
       "<Figure size 432x288 with 1 Axes>"
      ]
     },
     "metadata": {},
     "output_type": "display_data"
    }
   ],
   "source": [
    "#prcp_year.plot(prcp_year['prcp'], prcp_year['date'])\n",
    "prcp_year.plot('date','prcp')\n",
    "plt.xlabel(\"Date\")\n",
    "plt.ylabel(\"Rain (Inches)\")\n",
    "plt.title(\"Precipitation Hawaii (2016-08-23 to 2017-08-23)\")\n",
    "plt.legend([\"Precipitation\"])\n",
    "plt.xticks(rotation=45)\n",
    "plt.tight_layout()\n",
    "plt.show()"
   ]
  },
  {
   "cell_type": "markdown",
   "metadata": {},
   "source": [
    "### Station Analysis\n",
    "\n",
    "Design a query to calculate the total number of stations.\n",
    "Design a query to find the most active stations.\n",
    "List the stations and observation counts in descending order\n",
    "Which station has the highest number of observations?\n",
    "\n",
    "Design a query to retrieve the last 12 months of temperature observation data (tobs).\n",
    "\n",
    "Filter by the station with the highest number of observations.\n",
    "Plot the results as a histogram with bins=12.\n"
   ]
  },
  {
   "cell_type": "code",
   "execution_count": null,
   "metadata": {},
   "outputs": [],
   "source": []
  },
  {
   "cell_type": "markdown",
   "metadata": {},
   "source": [
    "### Temperature Analysis\n",
    "\n",
    "Write a function called calc_temps that will accept a start date and end date in the format %Y-%m-%d and return the minimum, average, and maximum temperatures for that range of dates.\n",
    "Use the calc_temps function to calculate the min, avg, and max temperatures for your trip using the matching dates from the previous year (i.e. use \"2017-01-01\" if your trip start date was \"2018-01-01\")\n",
    "\n",
    "Plot the min, avg, and max temperature from your previous query as a bar chart.\n",
    "\n",
    "\n",
    "Use the average temperature as the bar height.\n",
    "Use the peak-to-peak (tmax-tmin) value as the y error bar (yerr)."
   ]
  },
  {
   "cell_type": "code",
   "execution_count": null,
   "metadata": {},
   "outputs": [],
   "source": []
  },
  {
   "cell_type": "code",
   "execution_count": null,
   "metadata": {},
   "outputs": [],
   "source": []
  },
  {
   "cell_type": "markdown",
   "metadata": {},
   "source": [
    "# Step 4 - Climate App\n",
    "\n",
    "Now that you have completed your initial analysis, design a Flask api based on the queries that you have just developed.\n",
    "Use FLASK to create your routes.\n",
    "\n",
    "Routes\n",
    "/api/v1.0/precipitation\n",
    "\n",
    "Query for the dates and temperature observations from the last year.\n",
    "Convert the query results to a Dictionary using date as the key and tobs as the value.\n",
    "Return the json representation of your dictionary.\n",
    "/api/v1.0/stations\n",
    "\n",
    "Return a json list of stations from the dataset.\n",
    "/api/v1.0/tobs\n",
    "\n",
    "Return a json list of Temperature Observations (tobs) for the previous year\n",
    "/api/v1.0/<start> and /api/v1.0/<start>/<end>\n",
    "\n",
    "Return a json list of the minimum temperature, the average temperature, and the max temperature for a given start or start-end range.\n",
    "When given the start only, calculate TMIN, TAVG, and TMAX for all dates greater than and equal to the start date.\n",
    "When given the start and the end date, calculate the TMIN, TAVG, and TMAX for dates between the start and end date inclusive."
   ]
  },
  {
   "cell_type": "code",
   "execution_count": null,
   "metadata": {},
   "outputs": [],
   "source": []
  },
  {
   "cell_type": "code",
   "execution_count": null,
   "metadata": {},
   "outputs": [],
   "source": [
    "app = Flask(__name__)\n",
    "\n",
    "\n",
    "#################################################\n",
    "# Flask Routes\n",
    "#################################################\n",
    "\n",
    "@app.route(\"/\")\n",
    "def welcome():\n",
    "    \"\"\"List all available api routes.\"\"\"\n",
    "    return (\n",
    "        f\"Available Routes:<br/>\"\n",
    "        f\"/api/v1.0/names<br/>\"\n",
    "        f\"/api/v1.0/passengers\"\n",
    "    )\n",
    "\n",
    "\n",
    "@app.route(\"/api/v1.0/names\")\n",
    "def names():\n",
    "    \"\"\"Return a list of all passenger names\"\"\"\n",
    "    # Query all passengers\n",
    "    results = session.query(Passenger.name).all()\n",
    "\n",
    "    # Convert list of tuples into normal list\n",
    "    all_names = list(np.ravel(results))\n",
    "\n",
    "    return jsonify(all_names)\n",
    "\n",
    "\n",
    "@app.route(\"/api/v1.0/passengers\")\n",
    "def passengers():\n",
    "    \"\"\"Return a list of passenger data including the name, age, and sex of each passenger\"\"\"\n",
    "    # Query all passengers\n",
    "    results = session.query(Passenger).all()\n",
    "\n",
    "    # Create a dictionary from the row data and append to a list of all_passengers\n",
    "    all_passengers = []\n",
    "    for passenger in results:\n",
    "        passenger_dict = {}\n",
    "        passenger_dict[\"name\"] = passenger.name\n",
    "        passenger_dict[\"age\"] = passenger.age\n",
    "        passenger_dict[\"sex\"] = passenger.sex\n",
    "        all_passengers.append(passenger_dict)\n",
    "\n",
    "    return jsonify(all_passengers)\n",
    "\n",
    "\n",
    "if __name__ == '__main__':\n",
    "    app.run(debug=True)"
   ]
  }
 ],
 "metadata": {
  "kernelspec": {
   "display_name": "Python 3",
   "language": "python",
   "name": "python3"
  },
  "language_info": {
   "codemirror_mode": {
    "name": "ipython",
    "version": 3
   },
   "file_extension": ".py",
   "mimetype": "text/x-python",
   "name": "python",
   "nbconvert_exporter": "python",
   "pygments_lexer": "ipython3",
   "version": "3.6.5"
  }
 },
 "nbformat": 4,
 "nbformat_minor": 2
}
